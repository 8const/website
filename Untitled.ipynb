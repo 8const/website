{
 "cells": [
  {
   "cell_type": "code",
   "execution_count": 2,
   "metadata": {},
   "outputs": [
    {
     "data": {
      "text/html": [
       "<div id=\"glowscript\" class=\"glowscript\"></div>"
      ],
      "text/plain": [
       "<IPython.core.display.HTML object>"
      ]
     },
     "metadata": {},
     "output_type": "display_data"
    },
    {
     "data": {
      "application/javascript": [
       "if (typeof Jupyter !== \"undefined\") { window.__context = { glowscript_container: $(\"#glowscript\").removeAttr(\"id\")};}else{ element.textContent = ' ';}"
      ],
      "text/plain": [
       "<IPython.core.display.Javascript object>"
      ]
     },
     "metadata": {},
     "output_type": "display_data"
    },
    {
     "data": {
      "application/javascript": [
       "if (typeof Jupyter !== \"undefined\") {require.undef(\"nbextensions/vpython_libraries/glow.min\");}else{element.textContent = ' ';}"
      ],
      "text/plain": [
       "<IPython.core.display.Javascript object>"
      ]
     },
     "metadata": {},
     "output_type": "display_data"
    },
    {
     "data": {
      "application/javascript": [
       "if (typeof Jupyter !== \"undefined\") {require.undef(\"nbextensions/vpython_libraries/glowcomm\");}else{element.textContent = ' ';}"
      ],
      "text/plain": [
       "<IPython.core.display.Javascript object>"
      ]
     },
     "metadata": {},
     "output_type": "display_data"
    },
    {
     "data": {
      "application/javascript": [
       "if (typeof Jupyter !== \"undefined\") {require.undef(\"nbextensions/vpython_libraries/jquery-ui.custom.min\");}else{element.textContent = ' ';}"
      ],
      "text/plain": [
       "<IPython.core.display.Javascript object>"
      ]
     },
     "metadata": {},
     "output_type": "display_data"
    },
    {
     "data": {
      "application/javascript": [
       "if (typeof Jupyter !== \"undefined\") {require([\"nbextensions/vpython_libraries/glow.min\"], function(){console.log(\"GLOW LOADED\");});}else{element.textContent = ' ';}"
      ],
      "text/plain": [
       "<IPython.core.display.Javascript object>"
      ]
     },
     "metadata": {},
     "output_type": "display_data"
    },
    {
     "data": {
      "application/javascript": [
       "if (typeof Jupyter !== \"undefined\") {require([\"nbextensions/vpython_libraries/glowcomm\"], function(){console.log(\"GLOWCOMM LOADED\");});}else{element.textContent = ' ';}"
      ],
      "text/plain": [
       "<IPython.core.display.Javascript object>"
      ]
     },
     "metadata": {},
     "output_type": "display_data"
    },
    {
     "data": {
      "application/javascript": [
       "if (typeof Jupyter !== \"undefined\") {require([\"nbextensions/vpython_libraries/jquery-ui.custom.min\"], function(){console.log(\"JQUERY LOADED\");});}else{element.textContent = ' ';}"
      ],
      "text/plain": [
       "<IPython.core.display.Javascript object>"
      ]
     },
     "metadata": {},
     "output_type": "display_data"
    },
    {
     "name": "stdout",
     "output_type": "stream",
     "text": [
      "0\n",
      "1\n",
      "2\n",
      "3\n",
      "4\n",
      "5\n",
      "6\n",
      "7\n",
      "8\n",
      "9\n",
      "10\n",
      "11\n",
      "12\n",
      "13\n",
      "14\n"
     ]
    }
   ],
   "source": [
    "from vpython import *\n",
    "\n",
    "W = 60 # width\n",
    "H = 60 # height\n",
    "D = 60 # depth\n",
    "# determine number of neighbors\n",
    "if D > 1:\n",
    "  N = 12\n",
    "else:\n",
    "  N = 6\n",
    "R = 1 # radius\n",
    "\n",
    "T = 15 # num of iterations\n",
    "\n",
    "# growth params\n",
    "alpha = 1\n",
    "beta  = 0.9\n",
    "gamma = 0.05\n",
    "\n",
    "# cell color (lt. blue-ish)\n",
    "color = vector(204/255, 1, 1)\n",
    "\n",
    "def get_neighbors(idx):\n",
    "  # see https://stackoverflow.com/questions/9982458/creating-a-sphere-packing-nearest-neighbor-list-from-integers\n",
    "  A = W * H\n",
    "\n",
    "  plane = int(idx / A)\n",
    "  plane_index = idx % A\n",
    "  row = int(plane_index / W)\n",
    "  col = plane_index % W\n",
    "\n",
    "  r = -1 if row % 2 else 1   # (-1)**row\n",
    "  p = -1 if plane % 2 else 1 # (-1)**plane\n",
    "\n",
    "  nbors = []\n",
    "\n",
    "  # first include neighbors in same plane\n",
    "  if col != W-1: nbors.append(idx+1)\n",
    "  if col != 0:   nbors.append(idx-1)\n",
    "  if row != H-1: nbors.append(idx+W)\n",
    "  if row != 0:   nbors.append(idx-W)\n",
    "  if (col != 0 or r > 0) and (col != W-1 or r < 0):\n",
    "    if row != H-1: nbors.append(idx+W+r)\n",
    "    if row != 0:   nbors.append(idx-W+r)\n",
    "\n",
    "  # now add neighbors from other planes\n",
    "  if plane != D-1: nbors.append(idx+A)\n",
    "  if plane != 0:   nbors.append(idx-A)\n",
    "\n",
    "  if (col != 0 or p < 0) and (col != W-1 or p > 0):\n",
    "    if plane != D-1: nbors.append(idx+A-p)\n",
    "    if plane != 0:   nbors.append(idx-A-p)\n",
    "\n",
    "  if ((col != W - 1 or p > 0 or r < 0) and\n",
    "      (col != 0 or p < 0 or r > 0) and\n",
    "      (row != H-1 or p < 0) and\n",
    "      (row != 0 or p > 0)):\n",
    "    if plane != D-1:\n",
    "      nbors.append(idx + A + p*W + int((r-p)/2)) #10\n",
    "    if plane != 0:\n",
    "      nbors.append(idx - A + p*W + int((r-p)/2)) #11\n",
    "\n",
    "  return nbors\n",
    "\n",
    "def get_pos(idx):\n",
    "  k = int(idx / (W*H));\n",
    "  idx -= (k*W*H);\n",
    "  j = int(idx / W);\n",
    "  i = idx % W;\n",
    "  #print(i,j,k)\n",
    "  x = 2*i + ((j+k) % 2)\n",
    "  y = sqrt(3)*(j + (1/3)*(k % 2))\n",
    "  z = ((2*sqrt(6))/3)*k\n",
    "\n",
    "  return vector(x,y,z)*R\n",
    "\n",
    "cells = []\n",
    "\n",
    "# initialize \n",
    "for idx in range(W*H*D):\n",
    "  cell = sphere()\n",
    "  cell.shininess = 0\n",
    "  cell.pos = get_pos(idx)\n",
    "  cell.radius = R\n",
    "  cell.A = beta\n",
    "  cell.A2 = cell.A\n",
    "  cell.A2n = cell.A2\n",
    "  cell.A1 = 0\n",
    "  cell.neighbors = get_neighbors(idx)\n",
    "  cells.append(cell)\n",
    "  cell.visible = False\n",
    "center_idx = int(D/2)*(H*W) + int(H/2)*W + int(W/2)\n",
    "cells[center_idx].A = alpha\n",
    "\n",
    "# iterate\n",
    "for iter in range(T):\n",
    "  print(iter)\n",
    "  # grow ice\n",
    "  for idx in range(W*H*D):\n",
    "    neighbors = cells[idx].neighbors\n",
    "    if len(neighbors) != N: \n",
    "      continue\n",
    "    # determine receptive\n",
    "    receptive = False \n",
    "    for neighbor in neighbors:\n",
    "      if cells[neighbor].A >= alpha or cells[idx].A >= alpha:\n",
    "        receptive = True\n",
    "        break\n",
    "    if receptive:\n",
    "      cells[idx].A1 = cells[idx].A + gamma\n",
    "      cells[idx].A2 = 0\n",
    "    else:\n",
    "      cells[idx].A1 = 0\n",
    "      cells[idx].A2 = cells[idx].A \n",
    "\n",
    "  # diffuse\n",
    "  for idx in range(W*H*D):\n",
    "    neighbors = cells[idx].neighbors\n",
    "    if len(neighbors) != N: \n",
    "      continue\n",
    "    avg = 0\n",
    "    for neighbor in neighbors:\n",
    "      avg += cells[neighbor].A2\n",
    "    avg /= N \n",
    "    cells[idx].A2n = (cells[idx].A2 + avg) / 2\n",
    "\n",
    "  for idx in range(W*H*D):\n",
    "    cells[idx].A = cells[idx].A1 + cells[idx].A2n #add updated water and ice\n",
    "    cells[idx].A2 = cells[idx].A2n # update water for next step\n",
    "\n",
    "# color cells \n",
    "#scene.userzoom = False\n",
    "#scene.userspin = False\n",
    "scene.center = get_pos(center_idx)\n",
    "scene.width = 600\n",
    "scene.height = 600\n",
    "\n",
    "A_max = -float(\"inf\")\n",
    "A_min = float(\"inf\")\n",
    "for idx in range(W*H*D):\n",
    "  if cells[idx].A > A_max:\n",
    "    A_max = cells[idx].A\n",
    "  if cells[idx].A < A_min:\n",
    "    A_min = cells[idx].A\n",
    "for idx in range(W*H*D):\n",
    "  norm = (cells[idx].A-A_min) * (1 / (A_max-A_min));\n",
    "  cells[idx].color = color*norm\n",
    "  cells[idx].opacity = norm-.1\n",
    "  if norm > .5:\n",
    "    cells[idx].visible = True"
   ]
  },
  {
   "cell_type": "code",
   "execution_count": null,
   "metadata": {},
   "outputs": [],
   "source": []
  }
 ],
 "metadata": {
  "kernelspec": {
   "display_name": "Python 3",
   "language": "python",
   "name": "python3"
  },
  "language_info": {
   "codemirror_mode": {
    "name": "ipython",
    "version": 3
   },
   "file_extension": ".py",
   "mimetype": "text/x-python",
   "name": "python",
   "nbconvert_exporter": "python",
   "pygments_lexer": "ipython3",
   "version": "3.8.5"
  }
 },
 "nbformat": 4,
 "nbformat_minor": 4
}
